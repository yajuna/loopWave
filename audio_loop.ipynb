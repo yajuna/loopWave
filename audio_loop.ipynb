{
 "cells": [
  {
   "cell_type": "markdown",
   "id": "2cee7b2c",
   "metadata": {},
   "source": [
    "# In this notebook, we take a audio clip of several seconds, and make seamless loops of ambient sound file. "
   ]
  },
  {
   "cell_type": "code",
   "execution_count": 3,
   "id": "c137e48a",
   "metadata": {},
   "outputs": [],
   "source": [
    "import wave\n",
    "\n",
    "CHANNELS = 1\n",
    "swidth = 2\n",
    "Change_RATE = 0.1\n",
    "\n",
    "# read wave file and get rate\n",
    "spf = wave.open('oceanaudiofile/1-39901-A-11.wav', 'rb')\n",
    "RATE=spf.getframerate()\n",
    "signal = spf.readframes(-1)\n",
    "\n",
    "wf = wave.open('output/1-39901-A-11_rate'+ str(Change_RATE) +'.wav', 'wb')\n",
    "wf.setnchannels(CHANNELS)\n",
    "wf.setsampwidth(swidth)\n",
    "wf.setframerate(RATE*Change_RATE)\n",
    "wf.writeframes(signal)\n",
    "wf.close()"
   ]
  },
  {
   "cell_type": "code",
   "execution_count": null,
   "id": "3ae47609",
   "metadata": {},
   "outputs": [],
   "source": []
  }
 ],
 "metadata": {
  "kernelspec": {
   "display_name": "Python 3 (ipykernel)",
   "language": "python",
   "name": "python3"
  },
  "language_info": {
   "codemirror_mode": {
    "name": "ipython",
    "version": 3
   },
   "file_extension": ".py",
   "mimetype": "text/x-python",
   "name": "python",
   "nbconvert_exporter": "python",
   "pygments_lexer": "ipython3",
   "version": "3.8.10"
  }
 },
 "nbformat": 4,
 "nbformat_minor": 5
}
